{
 "cells": [
  {
   "cell_type": "markdown",
   "metadata": {
    "toc": true
   },
   "source": [
    "<h1>Table of Contents<span class=\"tocSkip\"></span></h1>\n",
    "<div class=\"toc\"><ul class=\"toc-item\"></ul></div>"
   ]
  },
  {
   "cell_type": "code",
   "execution_count": 35,
   "metadata": {
    "ExecuteTime": {
     "end_time": "2018-10-21T16:52:34.435961Z",
     "start_time": "2018-10-21T16:29:28.662662Z"
    },
    "collapsed": false,
    "scrolled": true
   },
   "outputs": [
    {
     "name": "stdout",
     "output_type": "stream",
     "text": [
      "randwho and index_min 60 60\n",
      "randwho and index_min 33 33\n",
      "randwho and index_min 43 43\n",
      "randwho and index_min 2 2\n",
      "randwho and index_min 31 31\n",
      "randwho and index_min 48 48\n",
      "randwho and index_min 25 25\n",
      "randwho and index_min 10 10\n",
      "randwho and index_min 51 51\n",
      "randwho and index_min 26 22\n",
      "randwho and index_min 47 47\n",
      "randwho and index_min 31 31\n",
      "randwho and index_min 44 44\n",
      "randwho and index_min 2 37\n",
      "randwho and index_min 31 31\n",
      "randwho and index_min 47 47\n",
      "randwho and index_min 57 57\n",
      "randwho and index_min 38 38\n",
      "randwho and index_min 21 21\n",
      "randwho and index_min 2 2\n",
      "randwho and index_min 51 24\n",
      "randwho and index_min 64 64\n",
      "randwho and index_min 65 65\n",
      "randwho and index_min 35 35\n",
      "randwho and index_min 1 64\n",
      "randwho and index_min 56 56\n",
      "randwho and index_min 57 57\n",
      "randwho and index_min 31 31\n",
      "randwho and index_min 21 4\n",
      "randwho and index_min 36 36\n",
      "randwho and index_min 11 11\n",
      "randwho and index_min 58 45\n",
      "randwho and index_min 51 51\n",
      "randwho and index_min 45 45\n",
      "randwho and index_min 54 54\n",
      "randwho and index_min 46 46\n",
      "randwho and index_min 16 16\n",
      "randwho and index_min 16 16\n",
      "randwho and index_min 43 43\n",
      "randwho and index_min 12 12\n",
      "randwho and index_min 55 55\n",
      "randwho and index_min 27 27\n",
      "randwho and index_min 52 52\n",
      "randwho and index_min 59 59\n",
      "randwho and index_min 22 22\n",
      "randwho and index_min 33 33\n",
      "randwho and index_min 58 58\n",
      "randwho and index_min 49 49\n",
      "randwho and index_min 15 15\n",
      "randwho and index_min 23 23\n",
      "randwho and index_min 55 55\n",
      "randwho and index_min 34 19\n",
      "randwho and index_min 60 49\n",
      "randwho and index_min 27 27\n",
      "randwho and index_min 19 19\n",
      "randwho and index_min 18 18\n",
      "randwho and index_min 42 42\n",
      "randwho and index_min 33 33\n",
      "randwho and index_min 4 4\n",
      "randwho and index_min 0 0\n",
      "randwho and index_min 49 49\n",
      "randwho and index_min 34 34\n",
      "randwho and index_min 6 6\n",
      "randwho and index_min 35 35\n",
      "randwho and index_min 6 6\n",
      "randwho and index_min 56 56\n",
      "randwho and index_min 43 43\n",
      "randwho and index_min 6 6\n",
      "randwho and index_min 46 11\n",
      "randwho and index_min 29 29\n",
      "randwho and index_min 20 20\n",
      "randwho and index_min 14 14\n",
      "randwho and index_min 53 53\n",
      "randwho and index_min 59 59\n",
      "randwho and index_min 41 41\n",
      "randwho and index_min 25 25\n",
      "randwho and index_min 21 21\n",
      "randwho and index_min 18 18\n",
      "randwho and index_min 28 28\n",
      "randwho and index_min 28 28\n",
      "randwho and index_min 58 58\n",
      "randwho and index_min 61 61\n",
      "randwho and index_min 11 11\n",
      "randwho and index_min 63 63\n",
      "randwho and index_min 29 29\n",
      "randwho and index_min 64 64\n",
      "randwho and index_min 61 61\n",
      "randwho and index_min 3 50\n",
      "randwho and index_min 66 66\n",
      "randwho and index_min 0 0\n",
      "randwho and index_min 4 4\n",
      "randwho and index_min 63 63\n",
      "randwho and index_min 66 66\n",
      "randwho and index_min 32 32\n",
      "randwho and index_min 40 40\n",
      "randwho and index_min 8 43\n",
      "randwho and index_min 16 16\n",
      "randwho and index_min 33 24\n",
      "randwho and index_min 53 53\n",
      "randwho and index_min 5 5\n"
     ]
    }
   ],
   "source": [
    "### import things\n",
    "import pandas as pd\n",
    "import copy\n",
    "### read form the csv doc\n",
    "data_train = pd.read_csv('train.csv')  \n",
    "\n",
    "data_test = pd.read_csv('test.csv')\n",
    "\n",
    "### trans to array\n",
    "train_array = np.array(data_train)\n",
    "test_array = np.array(data_test)\n",
    "###############hyper parameter\n",
    "use_normA=0\n",
    "use_normy=0\n",
    "###############hyper parameter\n",
    "\n",
    "### process the A to be norm or not\n",
    "if use_normA==1: \n",
    "    A_before_norm = train_array\n",
    "    A=np.empty(np.shape(A_before_norm))\n",
    "    for i in range(np.shape(A_before_norm)[1]):\n",
    "        temp=A_before_norm[:,i]/np.linalg.norm(A_before_norm[:,i])\n",
    "        A[:,i]=temp\n",
    "else:\n",
    "    A = train_array\n",
    "\n",
    "### the A shape\n",
    "[d,n] = A.shape\n",
    "\n",
    "\n",
    "### aha! same as the lambda, the L-1 norm coefficent\n",
    "lamb=1e-4\n",
    "\n",
    "### the learning rate 0.15/(the proxi-L constant)\n",
    "alpha=0.15/(0.25*max(sum(A*A)))\n",
    "\n",
    "### loops\n",
    "iters_outer=2\n",
    "iters_inner=2*d\n",
    "\n",
    "### count the number bingo\n",
    "right=0\n",
    "\n",
    "xx_0=np.zeros([85*67,67])\n",
    "for i in range(67):\n",
    "    xx_0[i*85:i*85+85][:,i]=1\n",
    "\n",
    "for k in range(100):\n",
    "    rand_index=np.random.randint(85*67)\n",
    "#     print('rand_index',rand_index)\n",
    "    rand_who=int(rand_index/85)\n",
    "#     print('rand_who',rand_who)\n",
    "    \n",
    "    #### which y version you use, norm processed or the plain one \n",
    "    if use_normy==1:\n",
    "        temp_y = test_array[:,rand_index].reshape(d,1)\n",
    "        y=np.empty(np.shape(temp_y))\n",
    "        y=temp_y/np.linalg.norm(temp_y)\n",
    "    else:\n",
    "        y=test_array[:,rand_index].reshape(d,1)\n",
    "    \n",
    "    ### initialize the two ws\n",
    "    w_prev=np.array(np.zeros([n,1]))\n",
    "    w_tilda=np.array(np.zeros([n,1]))\n",
    "    \n",
    "\n",
    "    ### big loop\n",
    "    for i in range(iters_outer):\n",
    "        mu=(-A.T).dot(y-A.dot(w_tilda))/d\n",
    "        ### visit all random\n",
    "        index1=np.random.permutation(d)\n",
    "        index2=np.random.permutation(d)\n",
    "        index12=np.append(x1,x2)\n",
    "        ##small loop\n",
    "        for j in range(iters_inner):\n",
    "            ### choose a rand one from d \n",
    "#             idx=np.random.randint(0,d)\n",
    "            idx=index12[j]\n",
    "            \n",
    "            ### A transpose, need reshape\n",
    "            A_idx=A[idx].T.reshape(n,1)\n",
    "            ### g_prev and tilda\n",
    "            g_prev=(-A_idx).dot(y[idx]-(A[idx].reshape(1,n)).dot(w_prev)) \n",
    "            g_tilda=(-A_idx).dot(y[idx]-(A[idx].reshape(1,n)).dot(w_tilda)) \n",
    "            ### update the parameter\n",
    "            w_prev=w_prev-alpha*(g_prev-g_tilda+mu)\n",
    "            ### the soft thresholding\n",
    "            temp=w_prev-lamb*alpha\n",
    "            temp=(temp+abs(temp))/2\n",
    "            w_prev=np.sign(w_prev)*temp\n",
    "        ### assign the w_tilda for another loop    \n",
    "        w_tilda=copy.deepcopy(w_prev)\n",
    "\n",
    "\n",
    "        \n",
    "    res_min=1e9\n",
    "    for i in range(np.shape(xx_0)[1]):\n",
    "        temp=xx_0[:,i].reshape(5695,1)\n",
    "        x_phi=w_tilda*temp\n",
    "        res=sum((y-A.dot(x_phi))*(y-A.dot(x_phi)))\n",
    "        if res<res_min:\n",
    "            res_min=res\n",
    "            index_min=i\n",
    "\n",
    "\n",
    "    print('randwho and index_min',rand_who,index_min)\n",
    "#     print('detect and rand_who',detect,rand_who)\n",
    "#     print('rand_index',rand_index)\n",
    "#     print('rand_who',rand_who)\n",
    "#     print('*'*80)\n",
    "#     if detect == rand_who:\n",
    "#         right=right+1\n",
    "\n",
    "    if rand_who == index_min:\n",
    "        right=right+1\n",
    "\n",
    "\n",
    "    \n",
    "    \n",
    "    "
   ]
  },
  {
   "cell_type": "raw",
   "metadata": {},
   "source": [
    "visit all random  86 83"
   ]
  },
  {
   "cell_type": "code",
   "execution_count": 34,
   "metadata": {
    "ExecuteTime": {
     "end_time": "2018-10-21T16:29:20.643107Z",
     "start_time": "2018-10-21T16:29:20.638120Z"
    },
    "collapsed": false
   },
   "outputs": [
    {
     "data": {
      "text/plain": [
       "83"
      ]
     },
     "execution_count": 34,
     "metadata": {},
     "output_type": "execute_result"
    }
   ],
   "source": [
    "right"
   ]
  },
  {
   "cell_type": "code",
   "execution_count": 29,
   "metadata": {
    "ExecuteTime": {
     "end_time": "2018-10-21T12:21:26.448381Z",
     "start_time": "2018-10-21T12:21:26.441403Z"
    },
    "collapsed": false
   },
   "outputs": [
    {
     "data": {
      "text/plain": [
       "(2046,)"
      ]
     },
     "execution_count": 29,
     "metadata": {},
     "output_type": "execute_result"
    }
   ],
   "source": [
    "x1=np.random.permutation(d)\n",
    "x2=np.random.permutation(d)\n",
    "xx=np.append(x1,x2)\n",
    "np.shape(xx)"
   ]
  }
 ],
 "metadata": {
  "anaconda-cloud": {},
  "kernelspec": {
   "display_name": "Python [default]",
   "language": "python",
   "name": "python3"
  },
  "language_info": {
   "codemirror_mode": {
    "name": "ipython",
    "version": 3
   },
   "file_extension": ".py",
   "mimetype": "text/x-python",
   "name": "python",
   "nbconvert_exporter": "python",
   "pygments_lexer": "ipython3",
   "version": "3.5.2"
  },
  "toc": {
   "base_numbering": 1,
   "nav_menu": {},
   "number_sections": true,
   "sideBar": true,
   "skip_h1_title": true,
   "title_cell": "Table of Contents",
   "title_sidebar": "Contents",
   "toc_cell": true,
   "toc_position": {},
   "toc_section_display": true,
   "toc_window_display": false
  },
  "varInspector": {
   "cols": {
    "lenName": "30",
    "lenType": 16,
    "lenVar": 40
   },
   "kernels_config": {
    "python": {
     "delete_cmd_postfix": "",
     "delete_cmd_prefix": "del ",
     "library": "var_list.py",
     "varRefreshCmd": "print(var_dic_list())"
    },
    "r": {
     "delete_cmd_postfix": ") ",
     "delete_cmd_prefix": "rm(",
     "library": "var_list.r",
     "varRefreshCmd": "cat(var_dic_list()) "
    }
   },
   "types_to_exclude": [
    "module",
    "function",
    "builtin_function_or_method",
    "instance",
    "_Feature"
   ],
   "window_display": true
  }
 },
 "nbformat": 4,
 "nbformat_minor": 1
}
