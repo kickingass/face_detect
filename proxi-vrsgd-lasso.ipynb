{
 "cells": [
  {
   "cell_type": "markdown",
   "metadata": {
    "toc": true
   },
   "source": [
    "<h1>Table of Contents<span class=\"tocSkip\"></span></h1>\n",
    "<div class=\"toc\"><ul class=\"toc-item\"><li><span><a href=\"#unchanged\" data-toc-modified-id=\"unchanged-1\"><span class=\"toc-item-num\">1&nbsp;&nbsp;</span>unchanged</a></span></li><li><span><a href=\"#hot--test\" data-toc-modified-id=\"hot--test-2\"><span class=\"toc-item-num\">2&nbsp;&nbsp;</span>hot  test</a></span></li><li><span><a href=\"#time-test\" data-toc-modified-id=\"time-test-3\"><span class=\"toc-item-num\">3&nbsp;&nbsp;</span>time test</a></span></li></ul></div>"
   ]
  },
  {
   "cell_type": "markdown",
   "metadata": {},
   "source": [
    "## unchanged"
   ]
  },
  {
   "cell_type": "code",
   "execution_count": 20,
   "metadata": {
    "ExecuteTime": {
     "end_time": "2018-10-21T16:27:05.286055Z",
     "start_time": "2018-10-21T16:06:04.159350Z"
    },
    "collapsed": false,
    "scrolled": true
   },
   "outputs": [
    {
     "name": "stdout",
     "output_type": "stream",
     "text": [
      "rand_index 578\n",
      "randwho and index_min 6 6\n",
      "rand_index 3690\n",
      "randwho and index_min 43 43\n",
      "rand_index 3414\n",
      "randwho and index_min 40 50\n",
      "rand_index 108\n",
      "randwho and index_min 1 64\n",
      "rand_index 5251\n",
      "randwho and index_min 61 61\n",
      "rand_index 3553\n",
      "randwho and index_min 41 41\n",
      "rand_index 4619\n",
      "randwho and index_min 54 54\n",
      "rand_index 4039\n",
      "randwho and index_min 47 47\n",
      "rand_index 2468\n",
      "randwho and index_min 29 56\n",
      "rand_index 2916\n",
      "randwho and index_min 34 19\n",
      "rand_index 1304\n",
      "randwho and index_min 15 45\n",
      "rand_index 1831\n",
      "randwho and index_min 21 21\n",
      "rand_index 2852\n",
      "randwho and index_min 33 33\n",
      "rand_index 3702\n",
      "randwho and index_min 43 43\n",
      "rand_index 1929\n",
      "randwho and index_min 22 50\n",
      "rand_index 4070\n",
      "randwho and index_min 47 47\n",
      "rand_index 1738\n",
      "randwho and index_min 20 20\n",
      "rand_index 3234\n",
      "randwho and index_min 38 19\n",
      "rand_index 4688\n",
      "randwho and index_min 55 15\n",
      "rand_index 3433\n",
      "randwho and index_min 40 40\n",
      "rand_index 3490\n",
      "randwho and index_min 41 41\n",
      "rand_index 466\n",
      "randwho and index_min 5 5\n",
      "rand_index 2670\n",
      "randwho and index_min 31 52\n",
      "rand_index 4896\n",
      "randwho and index_min 57 57\n",
      "rand_index 5091\n",
      "randwho and index_min 59 59\n",
      "rand_index 211\n",
      "randwho and index_min 2 53\n",
      "rand_index 3917\n",
      "randwho and index_min 46 46\n",
      "rand_index 4958\n",
      "randwho and index_min 58 58\n",
      "rand_index 5178\n",
      "randwho and index_min 60 60\n",
      "rand_index 5025\n",
      "randwho and index_min 59 59\n",
      "rand_index 5592\n",
      "randwho and index_min 65 65\n",
      "rand_index 1857\n",
      "randwho and index_min 21 21\n",
      "rand_index 1260\n",
      "randwho and index_min 14 14\n",
      "rand_index 2534\n",
      "randwho and index_min 29 29\n",
      "rand_index 5219\n",
      "randwho and index_min 61 61\n",
      "rand_index 1414\n",
      "randwho and index_min 16 16\n",
      "rand_index 5275\n",
      "randwho and index_min 62 62\n",
      "rand_index 4404\n",
      "randwho and index_min 51 51\n",
      "rand_index 753\n",
      "randwho and index_min 8 8\n",
      "rand_index 774\n",
      "randwho and index_min 9 9\n",
      "rand_index 3420\n",
      "randwho and index_min 40 50\n",
      "rand_index 3466\n",
      "randwho and index_min 40 40\n",
      "rand_index 5488\n",
      "randwho and index_min 64 64\n",
      "rand_index 857\n",
      "randwho and index_min 10 10\n",
      "rand_index 1173\n",
      "randwho and index_min 13 13\n",
      "rand_index 1286\n",
      "randwho and index_min 15 15\n",
      "rand_index 2531\n",
      "randwho and index_min 29 29\n",
      "rand_index 2383\n",
      "randwho and index_min 28 60\n",
      "rand_index 4893\n",
      "randwho and index_min 57 57\n",
      "rand_index 4216\n",
      "randwho and index_min 49 49\n",
      "rand_index 3797\n",
      "randwho and index_min 44 44\n",
      "rand_index 1805\n",
      "randwho and index_min 21 21\n",
      "rand_index 2664\n",
      "randwho and index_min 31 31\n",
      "rand_index 655\n",
      "randwho and index_min 7 7\n",
      "rand_index 4973\n",
      "randwho and index_min 58 58\n",
      "rand_index 4850\n",
      "randwho and index_min 57 57\n",
      "rand_index 2837\n",
      "randwho and index_min 33 33\n",
      "rand_index 105\n",
      "randwho and index_min 1 56\n",
      "rand_index 1296\n",
      "randwho and index_min 15 15\n",
      "rand_index 738\n",
      "randwho and index_min 8 50\n",
      "rand_index 3213\n",
      "randwho and index_min 37 37\n",
      "rand_index 447\n",
      "randwho and index_min 5 50\n",
      "rand_index 4322\n",
      "randwho and index_min 50 50\n",
      "rand_index 1131\n",
      "randwho and index_min 13 13\n",
      "rand_index 494\n",
      "randwho and index_min 5 5\n",
      "rand_index 170\n",
      "randwho and index_min 2 2\n",
      "rand_index 1882\n",
      "randwho and index_min 22 22\n",
      "rand_index 4916\n",
      "randwho and index_min 57 57\n",
      "rand_index 2396\n",
      "randwho and index_min 28 28\n",
      "rand_index 3996\n",
      "randwho and index_min 47 24\n",
      "rand_index 2407\n",
      "randwho and index_min 28 28\n",
      "rand_index 83\n",
      "randwho and index_min 0 11\n",
      "rand_index 4665\n",
      "randwho and index_min 54 54\n",
      "rand_index 4869\n",
      "randwho and index_min 57 57\n",
      "rand_index 2936\n",
      "randwho and index_min 34 34\n",
      "rand_index 4598\n",
      "randwho and index_min 54 54\n",
      "rand_index 223\n",
      "randwho and index_min 2 14\n",
      "rand_index 3388\n",
      "randwho and index_min 39 39\n",
      "rand_index 2252\n",
      "randwho and index_min 26 26\n",
      "rand_index 3461\n",
      "randwho and index_min 40 40\n",
      "rand_index 529\n",
      "randwho and index_min 6 6\n",
      "rand_index 4071\n",
      "randwho and index_min 47 47\n",
      "rand_index 2665\n",
      "randwho and index_min 31 31\n",
      "rand_index 939\n",
      "randwho and index_min 11 24\n",
      "rand_index 169\n",
      "randwho and index_min 1 1\n",
      "rand_index 1273\n",
      "randwho and index_min 14 14\n",
      "rand_index 1070\n",
      "randwho and index_min 12 53\n",
      "rand_index 67\n",
      "randwho and index_min 0 46\n",
      "rand_index 147\n",
      "randwho and index_min 1 1\n",
      "rand_index 4247\n",
      "randwho and index_min 49 50\n",
      "rand_index 3942\n",
      "randwho and index_min 46 46\n",
      "rand_index 4067\n",
      "randwho and index_min 47 47\n",
      "rand_index 3927\n",
      "randwho and index_min 46 46\n",
      "rand_index 4035\n",
      "randwho and index_min 47 47\n",
      "rand_index 832\n",
      "randwho and index_min 9 9\n",
      "rand_index 3587\n",
      "randwho and index_min 42 42\n",
      "rand_index 387\n",
      "randwho and index_min 4 4\n",
      "rand_index 596\n",
      "randwho and index_min 7 27\n",
      "rand_index 1134\n",
      "randwho and index_min 13 13\n",
      "rand_index 4019\n",
      "randwho and index_min 47 47\n"
     ]
    }
   ],
   "source": [
    "### import things\n",
    "import pandas as pd\n",
    "import copy\n",
    "### read form the csv doc\n",
    "data_train = pd.read_csv('train.csv')  \n",
    "data_test = pd.read_csv('test.csv')\n",
    "\n",
    "### trans to array\n",
    "train_array = np.array(data_train)\n",
    "test_array = np.array(data_test)\n",
    "\n",
    "###############hyper parameter\n",
    "use_normA=0\n",
    "use_normy=0\n",
    "###############hyper parameter\n",
    "\n",
    "### process the A to be norm or not\n",
    "if use_normA==1: \n",
    "    A_before_norm = train_array\n",
    "    A=np.empty(np.shape(A_before_norm))\n",
    "    for i in range(np.shape(A_before_norm)[1]):\n",
    "        temp=A_before_norm[:,i]/np.linalg.norm(A_before_norm[:,i])\n",
    "        A[:,i]=temp\n",
    "else:\n",
    "    A = train_array\n",
    "\n",
    "### the A shape\n",
    "[d,n] = A.shape\n",
    "\n",
    "\n",
    "### aha! same as the lambda, the L-1 norm coefficent\n",
    "lamb=1e-4\n",
    "\n",
    "### the learning rate 0.15/(the proxi-L constant)\n",
    "alpha=0.15/(0.25*max(sum(A*A)))\n",
    "# alpha=0.15/(0.25*max(sum(A*A))+lamb)\n",
    "\n",
    "### try bigger learning\n",
    "# alpha=3*alpha\n",
    "\n",
    "\n",
    "### loops\n",
    "iters_outer=2\n",
    "iters_inner=2*d\n",
    "\n",
    "### count the number bingo\n",
    "right=0\n",
    "\n",
    "xx_0=np.zeros([85*67,67])\n",
    "for i in range(67):\n",
    "    xx_0[i*85:i*85+85][:,i]=1\n",
    "\n",
    "for k in range(100):\n",
    "    rand_index=np.random.randint(85*67)\n",
    "#     print('rand_index',rand_index)\n",
    "    rand_who=int(rand_index/85)\n",
    "#     print('rand_who',rand_who)\n",
    "    \n",
    "    #### which y version you use, norm processed or the plain one \n",
    "    if use_normy==1:\n",
    "        temp_y = test_array[:,rand_index].reshape(d,1)\n",
    "        y=np.empty(np.shape(temp_y))\n",
    "        y=temp_y/np.linalg.norm(temp_y)\n",
    "    else:\n",
    "        y=test_array[:,rand_index].reshape(d,1)\n",
    "    \n",
    "    ### initialize the two ws\n",
    "    w_prev=np.array(np.zeros([n,1]))\n",
    "    w_tilda=np.array(np.zeros([n,1]))\n",
    "    ww_prev=np.array(np.zeros([n,1]))\n",
    "    ### big loop\n",
    "    for i in range(iters_outer):\n",
    "        ### the vrsgd things\n",
    "        tau=max(2/(i+2),0.1818) \n",
    "        alpha2=alpha/tau\n",
    "        alpha1=lamb*alpha2\n",
    "        ### compute the full gradient\n",
    "        mu=(-A.T).dot(y-A.dot(w_tilda))/d\n",
    "        ##small loop\n",
    "        for j in range(iters_inner):\n",
    "            ### choose a rand one from d \n",
    "            idx=np.random.randint(0,d)\n",
    "            ### A transpose, need reshape\n",
    "            A_idx=A[idx].T.reshape(n,1)\n",
    "            ### g_prev and tilda\n",
    "            g_prev=(-A_idx).dot(y[idx]-(A[idx].reshape(1,n)).dot(w_prev)) \n",
    "            g_tilda=(-A_idx).dot(y[idx]-(A[idx].reshape(1,n)).dot(w_tilda)) \n",
    "            ### update the parameter\n",
    "            w_prev=w_prev-alpha2*(g_prev-g_tilda+mu)\n",
    "            ### the soft thresholding\n",
    "            temp=w_prev-alpha1\n",
    "            temp=(temp+abs(temp))/2\n",
    "            w_prev=np.sign(w_prev)*temp\n",
    "            ### sum the w_prev in the inner loop\n",
    "            ww_prev+=w_prev\n",
    "#             ww_prev=0.2*ww_prev+0.8*w_prev ## seem momentum dont work\n",
    "\n",
    "        ### assign the w_tilda for another loop  \n",
    "        ## opt1\n",
    "        w_tilda=copy.deepcopy(ww_prev/iters_inner)\n",
    "        ##opt2\n",
    "#         w_tilda=copy.deepcopy(w_prev)\n",
    "#         w_prev=copy.deepcopy(w_tilda)\n",
    "\n",
    "\n",
    "        \n",
    "    res_min=1e9\n",
    "    for m in range(np.shape(xx_0)[1]):\n",
    "        temp=xx_0[:,m].reshape(5695,1)\n",
    "        x_phi=w_tilda*temp\n",
    "#         res=sum((y-A.dot(x_phi))*(y-A.dot(x_phi)))\n",
    "        res=sum((y-A.dot(x_phi))*(y-A.dot(x_phi)))+lamb*sum(x_phi<1e-6)\n",
    "\n",
    "\n",
    "        if res<res_min:\n",
    "            res_min=res\n",
    "            index_min=m\n",
    "\n",
    "    print('rand_index',rand_index)\n",
    "    print('randwho and index_min',rand_who,index_min)\n",
    "#     print('detect and rand_who',detect,rand_who)\n",
    "#     print('rand_index',rand_index)\n",
    "#     print('rand_who',rand_who)\n",
    "#     print('*'*80)\n",
    "#     if detect == rand_who:\n",
    "#         right=right+1\n",
    "\n",
    "    if rand_who == index_min:\n",
    "        right=right+1\n",
    "\n",
    "\n",
    "    \n",
    "    \n",
    "    "
   ]
  },
  {
   "cell_type": "code",
   "execution_count": 21,
   "metadata": {
    "ExecuteTime": {
     "end_time": "2018-10-21T22:07:40.631127Z",
     "start_time": "2018-10-21T22:07:40.535383Z"
    },
    "collapsed": false
   },
   "outputs": [
    {
     "data": {
      "text/plain": [
       "77"
      ]
     },
     "execution_count": 21,
     "metadata": {},
     "output_type": "execute_result"
    }
   ],
   "source": [
    "right"
   ]
  },
  {
   "cell_type": "raw",
   "metadata": {
    "ExecuteTime": {
     "end_time": "2018-10-20T17:15:15.690854Z",
     "start_time": "2018-10-20T17:15:15.685893Z"
    }
   },
   "source": [
    "no momentum 83%\n",
    "momentum   54%\n",
    "\n",
    "rand_index 2916\n",
    "randwho and index_min 34 19\n",
    "\n",
    "rand_index 1304\n",
    "randwho and index_min 15 45\n",
    "\n",
    "rand_index 108\n",
    "randwho and index_min 1 64\n",
    "\n",
    "rand_index 1929\n",
    "randwho and index_min 22 50\n",
    "\n",
    "rand_index 4688\n",
    "randwho and index_min 55 15\n",
    "\n",
    "rand_index 2670\n",
    "randwho and index_min 31 52\n",
    "\n",
    "rand_index 3420\n",
    "randwho and index_min 40 \n",
    "\n",
    "rand_index 2383\n",
    "randwho and index_min 28 60\n",
    "\n",
    "rand_index 105\n",
    "randwho and index_min 1 56\n",
    "\n",
    "rand_index 738\n",
    "randwho and index_min 8 50"
   ]
  },
  {
   "cell_type": "markdown",
   "metadata": {
    "collapsed": true
   },
   "source": [
    "## hot  test"
   ]
  },
  {
   "cell_type": "code",
   "execution_count": 63,
   "metadata": {
    "ExecuteTime": {
     "end_time": "2018-10-26T15:49:07.095435Z",
     "start_time": "2018-10-26T15:48:42.506170Z"
    },
    "collapsed": false,
    "scrolled": true
   },
   "outputs": [
    {
     "name": "stdout",
     "output_type": "stream",
     "text": [
      "('rand_index', 108)\n",
      "('randwho and index_min', 1, 66)\n"
     ]
    }
   ],
   "source": [
    "### import things\n",
    "import pandas as pd\n",
    "import copy \n",
    "import seaborn as sns\n",
    "### read form the csv doc\n",
    "data_train = pd.read_csv('train.csv')  \n",
    "data_test = pd.read_csv('test.csv')\n",
    "\n",
    "### trans to array\n",
    "train_array = np.array(data_train)\n",
    "test_array = np.array(data_test)\n",
    "\n",
    "###############hyper parameter\n",
    "use_normA=0\n",
    "use_normy=0\n",
    "###############hyper parameter\n",
    "\n",
    "###############functions\n",
    "\n",
    "### determin the x_tilda\n",
    "def cp(x):\n",
    "    return copy.deepcopy(x)\n",
    "\n",
    "### get w_tilda\n",
    "def compute_w_tilda(iters_inner,w_prev,ww_prev,all_or_one='mix',alpha=0.8,beta=0.2):\n",
    "    if all_or_one=='all':\n",
    "        w_tilda=cp(ww_prev)/iters_inner\n",
    "    elif all_or_one=='one':\n",
    "        w_tilda=cp(w_prev)\n",
    "    elif all_or_one=='mix':\n",
    "        w_tilda= cp(alpha*(w_prev)+beta*(ww_prev/iters_inner))\n",
    "    return w_tilda\n",
    "\n",
    "### get the data matrix A\n",
    "def get_A(use_normA,train_array):\n",
    "    if use_normA==1: \n",
    "        A_before_norm = train_array\n",
    "        A=np.empty(np.shape(A_before_norm))\n",
    "        for i in range(np.shape(A_before_norm)[1]):\n",
    "            temp=A_before_norm[:,i]/np.linalg.norm(A_before_norm[:,i])\n",
    "            A[:,i]=temp\n",
    "    else:\n",
    "        A = train_array\n",
    "    return A\n",
    "\n",
    "### get alpha \n",
    "def compute_alpha(A,lamb):\n",
    "    L_max=0.25*max(sum(A*A))\n",
    "    alpha=0.15/(L_max+lamb)\n",
    "    return alpha\n",
    "\n",
    "def get_xx_0():\n",
    "    xx_0=np.zeros([85*67,67])\n",
    "    for i in range(67):\n",
    "        xx_0[i*85:i*85+85][:,i]=1\n",
    "    return xx_0\n",
    "\n",
    "def compute_res(y,x_phi,lamb):\n",
    "    return sum((y-A.dot(x_phi))*(y-A.dot(x_phi)))\n",
    "    \n",
    "def get_index_min(xx_0,w_tilda):\n",
    "    res_min=1e9\n",
    "    for m in range(np.shape(xx_0)[1]):\n",
    "        temp=xx_0[:,m].reshape(5695,1)\n",
    "        x_phi=w_tilda*temp\n",
    "        res=compute_res(y,x_phi,lamb)\n",
    "        if res<res_min:\n",
    "            res_min=res\n",
    "            index_min=m\n",
    "    return index_min\n",
    "\n",
    "\n",
    "\n",
    "###############functions\n",
    "\n",
    "\n",
    "### process the A to be norm or not\n",
    "A=get_A(0,train_array)\n",
    "[d,n] = A.shape\n",
    "\n",
    "\n",
    "### aha! same as the lambda, the L-1 norm coefficent\n",
    "lamb=1e-5\n",
    "\n",
    "### loops\n",
    "iters_outer=1  # so many\n",
    "iters_inner=d  # kd\n",
    "\n",
    "\n",
    "### the learning rate 0.15/(the proxi-L constant+alpha)\n",
    "alpha=compute_alpha(A,lamb)\n",
    "### try bigger learning\n",
    "# alpha=3*alpha\n",
    "\n",
    "### make only part of the list to be none zero\n",
    "xx_0=get_xx_0()\n",
    "\n",
    "\n",
    "### count the number bingo when go through lots epochs\n",
    "right=0\n",
    "\n",
    "\n",
    "### choose a wrong one\n",
    "rand_index=108\n",
    "#     print('rand_index',rand_index)\n",
    "rand_who=int(rand_index/85)\n",
    "#     print('rand_who',rand_who)\n",
    "\n",
    "#### which y version you use, norm processed or the plain one \n",
    "if use_normy==1:\n",
    "    temp_y = test_array[:,rand_index].reshape(d,1)\n",
    "    y=np.empty(np.shape(temp_y))\n",
    "    y=temp_y/np.linalg.norm(temp_y)\n",
    "else:\n",
    "    y=test_array[:,rand_index].reshape(d,1)\n",
    "\n",
    "### initialize the two ws\n",
    "w_prev=np.array(np.zeros([n,1]))\n",
    "w_tilda=np.array(np.zeros([n,1]))\n",
    "ww_prev=np.array(np.zeros([n,1]))\n",
    "\n",
    "### w_prev hotmap\n",
    "w_prev_hot=np.empty([n,1])\n",
    "hot_num=0\n",
    "### big loop\n",
    "for i in range(iters_outer):\n",
    "    ### the vrsgd things\n",
    "    tau=max(2/(i+2),0.1818) \n",
    "    alpha2=alpha/tau\n",
    "    alpha1=lamb*alpha2\n",
    "    ### compute the full gradient\n",
    "    mu=(-A.T).dot(y-A.dot(w_tilda))/d\n",
    "    ##small loop\n",
    "    for j in range(iters_inner):\n",
    "        ### choose a rand one from d \n",
    "        idx=np.random.randint(0,d)\n",
    "        ### A transpose, need reshape\n",
    "        A_idx=A[idx].T.reshape(n,1)\n",
    "        ### g_prev and tilda\n",
    "        g_prev=(-A_idx).dot(y[idx]-(A[idx].reshape(1,n)).dot(w_prev)) \n",
    "        g_tilda=(-A_idx).dot(y[idx]-(A[idx].reshape(1,n)).dot(w_tilda)) \n",
    "        ### update the parameter\n",
    "        w_prev=w_prev-alpha2*(g_prev-g_tilda+mu)\n",
    "        ### the soft thresholding\n",
    "        temp=w_prev-alpha1\n",
    "        temp=(temp+abs(temp))/2\n",
    "        w_prev=np.sign(w_prev)*temp\n",
    "        ### sum the w_prev in the inner loop\n",
    "#         print(j)\n",
    "\n",
    "        ### make the w_prev_hot\n",
    "        w_prev_hot=np.concatenate((w_prev_hot,w_prev),axis=1)\n",
    "        ### sum of the previous w_prev as ww_prev\n",
    "        ww_prev+=w_prev\n",
    "        \n",
    "    ### assign the w_tilda for another loop  3 kinds one or all or other\n",
    "    w_tilda=compute_w_tilda(iters_inner,w_prev,ww_prev,alpha=0.2,beta=0.8)\n",
    "\n",
    "\n",
    "\n",
    "index_min=get_index_min(xx_0,w_tilda)\n",
    "\n",
    "print(('rand_index',rand_index))\n",
    "print(('randwho and index_min',rand_who,index_min))\n",
    "\n",
    "if rand_who == index_min:\n",
    "    right=right+1"
   ]
  },
  {
   "cell_type": "code",
   "execution_count": 78,
   "metadata": {
    "ExecuteTime": {
     "end_time": "2018-10-26T15:52:52.798081Z",
     "start_time": "2018-10-26T15:52:52.740226Z"
    },
    "collapsed": false
   },
   "outputs": [
    {
     "data": {
      "text/plain": [
       "<function list.index>"
      ]
     },
     "execution_count": 78,
     "metadata": {},
     "output_type": "execute_result"
    }
   ],
   "source": [
    "sorted(w_prev)[-10:].index"
   ]
  },
  {
   "cell_type": "code",
   "execution_count": 62,
   "metadata": {
    "ExecuteTime": {
     "end_time": "2018-10-26T15:48:23.539871Z",
     "start_time": "2018-10-26T15:48:22.814809Z"
    },
    "collapsed": false,
    "scrolled": true
   },
   "outputs": [
    {
     "data": {
      "text/plain": [
       "<matplotlib.axes._subplots.AxesSubplot at 0x24c01ac2160>"
      ]
     },
     "execution_count": 62,
     "metadata": {},
     "output_type": "execute_result"
    },
    {
     "data": {
      "image/png": "[encoded data removed]",
      "text/plain": [
       "<Figure size 7200x576 with 2 Axes>"
      ]
     },
     "metadata": {},
     "output_type": "display_data"
    }
   ],
   "source": [
    "import matplotlib.pyplot as plt\n",
    "%matplotlib inline\n",
    "plt.figure(figsize=(100,8))\n",
    "\n",
    "sns.set(style='whitegrid', color_codes=True)\n",
    "\n",
    "\n",
    "sns.heatmap(w_prev_hot)\n",
    "\n"
   ]
  },
  {
   "cell_type": "markdown",
   "metadata": {
    "ExecuteTime": {
     "end_time": "2018-10-24T12:14:32.425420Z",
     "start_time": "2018-10-24T12:14:32.419438Z"
    },
    "collapsed": false
   },
   "source": [
    "## time test"
   ]
  },
  {
   "cell_type": "code",
   "execution_count": 4,
   "metadata": {
    "ExecuteTime": {
     "end_time": "2018-10-26T20:10:36.954353Z",
     "start_time": "2018-10-26T20:10:28.132936Z"
    },
    "collapsed": false
   },
   "outputs": [
    {
     "name": "stdout",
     "output_type": "stream",
     "text": [
      "('rand_index', 108)\n",
      "('randwho and index_min', 1, 45)\n"
     ]
    }
   ],
   "source": [
    "### import things\n",
    "import pandas as pd\n",
    "import copy \n",
    "import seaborn as sns\n",
    "import time\n",
    "\n",
    "### read form the csv doc\n",
    "data_train = pd.read_csv('train.csv')  \n",
    "data_test = pd.read_csv('test.csv')\n",
    "\n",
    "### trans to array\n",
    "train_array = np.array(data_train)\n",
    "test_array = np.array(data_test)\n",
    "\n",
    "###############hyper parameter\n",
    "use_normA=0\n",
    "use_normy=0\n",
    "###############hyper parameter\n",
    "\n",
    "###############functions\n",
    "\n",
    "### determin the x_tilda\n",
    "def cp(x):\n",
    "    return copy.deepcopy(x)\n",
    "\n",
    "### get w_tilda\n",
    "def compute_w_tilda(iters_inner,w_prev,ww_prev,all_or_one='mix',alpha=0.8,beta=0.2):\n",
    "    if all_or_one=='all':\n",
    "        w_tilda=cp(ww_prev)/iters_inner\n",
    "    elif all_or_one=='one':\n",
    "        w_tilda=cp(w_prev)\n",
    "    elif all_or_one=='mix':\n",
    "        w_tilda= cp(alpha*(w_prev)+beta*(ww_prev/iters_inner))\n",
    "    return w_tilda\n",
    "\n",
    "### get the data matrix A\n",
    "def get_A(use_normA,train_array):\n",
    "    if use_normA==1: \n",
    "        A_before_norm = train_array\n",
    "        A=np.empty(np.shape(A_before_norm))\n",
    "        for i in range(np.shape(A_before_norm)[1]):\n",
    "            temp=A_before_norm[:,i]/np.linalg.norm(A_before_norm[:,i])\n",
    "            A[:,i]=temp\n",
    "    else:\n",
    "        A = train_array\n",
    "    return A\n",
    "\n",
    "### get alpha \n",
    "def compute_alpha(A,lamb):\n",
    "    L_max=0.25*max(sum(A*A))\n",
    "    alpha=0.15/(L_max+lamb)\n",
    "    return alpha\n",
    "\n",
    "def get_xx_0():\n",
    "    xx_0=np.zeros([85*67,67])\n",
    "    for i in range(67):\n",
    "        xx_0[i*85:i*85+85][:,i]=1\n",
    "    return xx_0\n",
    "\n",
    "def compute_res(y,x_phi,lamb):\n",
    "    return sum((y-A.dot(x_phi))*(y-A.dot(x_phi)))\n",
    "    \n",
    "def get_index_min(xx_0,w_tilda):\n",
    "    res_min=1e9\n",
    "    for m in range(np.shape(xx_0)[1]):\n",
    "        temp=xx_0[:,m].reshape(5695,1)\n",
    "        x_phi=w_tilda*temp\n",
    "        res=compute_res(y,x_phi,lamb)\n",
    "        if res<res_min:\n",
    "            res_min=res\n",
    "            index_min=m\n",
    "    return index_min\n",
    "\n",
    "def compute_sci(xx_0,w):\n",
    "    w_l1=np.linalg.norm(w,ord=1)\n",
    "    temp_max=1e-9\n",
    "    for m in range(np.shape(xx_0)[1]):\n",
    "        temp=xx_0[:,m].reshape(5695,1)\n",
    "        x_phi=w_tilda*temp\n",
    "        x_phi_l1=np.linalg.norm(x_phi,ord=1)\n",
    "        if x_phi_l1>temp_max:\n",
    "            temp_max=x_phi_l1\n",
    "    return (67*(temp_max/w_l1)-1)/(67-1)\n",
    "\n",
    "\n",
    "\n",
    "###############functions\n",
    "\n",
    "\n",
    "### process the A to be norm or not\n",
    "A=get_A(0,train_array)\n",
    "[d,n] = A.shape\n",
    "\n",
    "\n",
    "### aha! same as the lambda, the L-1 norm coefficent\n",
    "lamb=1e-5\n",
    "\n",
    "### loops\n",
    "iters_outer=2  # so many\n",
    "iters_inner=2*d  # kd\n",
    "\n",
    "\n",
    "### the learning rate 0.15/(the proxi-L constant+alpha)\n",
    "alpha=compute_alpha(A,lamb)\n",
    "### try bigger learning\n",
    "# alpha=3*alpha\n",
    "\n",
    "### make only part of the list to be none zero\n",
    "xx_0=get_xx_0()\n",
    "\n",
    "\n",
    "### count the number bingo when go through lots epochs\n",
    "right=0\n",
    "\n",
    "\n",
    "### choose a wrong one\n",
    "rand_index=108\n",
    "#     print('rand_index',rand_index)\n",
    "rand_who=int(rand_index/85)\n",
    "#     print('rand_who',rand_who)\n",
    "\n",
    "#### which y version you use, norm processed or the plain one \n",
    "if use_normy==1:\n",
    "    temp_y = test_array[:,rand_index].reshape(d,1)\n",
    "    y=np.empty(np.shape(temp_y))\n",
    "    y=temp_y/np.linalg.norm(temp_y)\n",
    "else:\n",
    "    y=test_array[:,rand_index].reshape(d,1)\n",
    "\n",
    "### initialize the two ws\n",
    "w_prev=np.array(np.zeros([n,1]))\n",
    "w_tilda=np.array(np.zeros([n,1]))\n",
    "ww_prev=np.array(np.zeros([n,1]))\n",
    "\n",
    "### w_prev hotmap\n",
    "w_prev_hot=np.empty([n,1])\n",
    "hot_num=0\n",
    "### big loop\n",
    "\n",
    "\n",
    "### store the res and time\n",
    "res_list=[]\n",
    "time_list=[]\n",
    "sci_list=[]\n",
    "### count the time \n",
    "start = time.clock()\n",
    "for i in range(iters_outer):\n",
    "    ### the vrsgd things\n",
    "    tau=max(2/(i+2),0.1818) \n",
    "    alpha2=alpha/tau\n",
    "    alpha1=lamb*alpha2\n",
    "    ### compute the full gradient\n",
    "    mu=(-A.T).dot(y-A.dot(w_tilda))/d\n",
    "    ##small loop\n",
    "    for j in range(iters_inner):\n",
    "        ### choose a rand one from d \n",
    "        idx=np.random.randint(0,d)\n",
    "        ### A transpose, need reshape\n",
    "        A_idx=A[idx].T.reshape(n,1)\n",
    "        ### g_prev and tilda\n",
    "        g_prev=(-A_idx).dot(y[idx]-(A[idx].reshape(1,n)).dot(w_prev)) \n",
    "        g_tilda=(-A_idx).dot(y[idx]-(A[idx].reshape(1,n)).dot(w_tilda)) \n",
    "        ### update the parameter\n",
    "        w_prev=w_prev-alpha2*(g_prev-g_tilda+mu)\n",
    "        ### the soft thresholding\n",
    "        temp=w_prev-alpha1\n",
    "        temp=(temp+abs(temp))/2\n",
    "        w_prev=np.sign(w_prev)*temp\n",
    "        \n",
    "        ### compute the res of w_prev and store\n",
    "        res_now=sum((y-A.dot(w_prev))*(y-A.dot(w_prev)))\n",
    "        res_list.append(res_now)\n",
    "        time_list.append(time.clock()-start)\n",
    "        \n",
    "        ### compute the sci value of w_prev and store\n",
    "        sci_now=compute_sci(xx_0,w_prev)\n",
    "        sci_list.append(sci_now)\n",
    "        \n",
    "        ### make the w_prev_hot\n",
    "        w_prev_hot=np.concatenate((w_prev_hot,w_prev),axis=1)\n",
    "        ### sum of the previous w_prev as ww_prev\n",
    "        ww_prev+=w_prev\n",
    "        \n",
    "    ### assign the w_tilda for another loop  3 kinds one or all or other\n",
    "    w_tilda=compute_w_tilda(iters_inner,w_prev,ww_prev,'all')\n",
    "\n",
    "\n",
    "\n",
    "index_min=get_index_min(xx_0,w_tilda)\n",
    "\n",
    "print(('rand_index',rand_index))\n",
    "print(('randwho and index_min',rand_who,index_min))\n",
    "\n",
    "if rand_who == index_min:\n",
    "    right=right+1\n",
    "    \n",
    "\n",
    "time_list_name=\"npy/vrsgd\"+'time_list'+'inner'+str(iters_inner)+'outer'+str(iters_outer)+'.npy'\n",
    "res_list_name=\"npy/vrsgd\"+'res_list'+'inner'+str(iters_inner)+'outer'+str(iters_outer)+'.npy'\n",
    "sci_list_name=\"npy/vrsgd\"+'sci_list'+'inner'+str(iters_inner)+'outer'+str(iters_outer)+'.npy'\n",
    "np.save(time_list_name,time_list)\n",
    "np.save(res_list_name,res_list)\n",
    "np.save(sci_list_name,sci_list)\n"
   ]
  },
  {
   "cell_type": "code",
   "execution_count": 15,
   "metadata": {
    "ExecuteTime": {
     "end_time": "2018-10-26T20:37:09.315176Z",
     "start_time": "2018-10-26T20:37:09.300215Z"
    },
    "collapsed": false
   },
   "outputs": [
    {
     "data": {
      "text/plain": [
       "array([0.18623234])"
      ]
     },
     "execution_count": 15,
     "metadata": {},
     "output_type": "execute_result"
    }
   ],
   "source": [
    "\n",
    "\n"
   ]
  },
  {
   "cell_type": "code",
   "execution_count": 100,
   "metadata": {
    "ExecuteTime": {
     "end_time": "2018-10-26T19:53:00.675698Z",
     "start_time": "2018-10-26T19:53:00.202962Z"
    },
    "collapsed": false
   },
   "outputs": [
    {
     "data": {
      "text/plain": [
       "[<matplotlib.lines.Line2D at 0x24c09464c18>]"
      ]
     },
     "execution_count": 100,
     "metadata": {},
     "output_type": "execute_result"
    },
    {
     "data": {
      "image/png": "[encoded data removed]",
      "text/plain": [
       "<Figure size 432x288 with 1 Axes>"
      ]
     },
     "metadata": {},
     "output_type": "display_data"
    }
   ],
   "source": [
    "import matplotlib.pyplot as plt\n",
    "plt.plot(time_list,res_list)"
   ]
  },
  {
   "cell_type": "code",
   "execution_count": 102,
   "metadata": {
    "ExecuteTime": {
     "end_time": "2018-10-26T19:53:20.692189Z",
     "start_time": "2018-10-26T19:53:20.688201Z"
    },
    "collapsed": false
   },
   "outputs": [],
   "source": [
    "# plt.plot(time_list,res_list)"
   ]
  },
  {
   "cell_type": "code",
   "execution_count": 101,
   "metadata": {
    "ExecuteTime": {
     "end_time": "2018-10-26T19:53:08.172657Z",
     "start_time": "2018-10-26T19:53:07.855505Z"
    },
    "collapsed": false
   },
   "outputs": [
    {
     "data": {
      "text/plain": [
       "[<matplotlib.lines.Line2D at 0x24c09494da0>]"
      ]
     },
     "execution_count": 101,
     "metadata": {},
     "output_type": "execute_result"
    },
    {
     "data": {
      "image/png": "[encoded data removed]",
      "text/plain": [
       "<Figure size 432x288 with 1 Axes>"
      ]
     },
     "metadata": {},
     "output_type": "display_data"
    }
   ],
   "source": [
    "plt.plot(time_list,sci_list)"
   ]
  },
  {
   "cell_type": "code",
   "execution_count": 2,
   "metadata": {
    "ExecuteTime": {
     "end_time": "2018-10-26T20:07:46.921897Z",
     "start_time": "2018-10-26T20:07:46.916911Z"
    },
    "collapsed": false
   },
   "outputs": [
    {
     "data": {
      "text/plain": [
       "0.2"
      ]
     },
     "execution_count": 2,
     "metadata": {},
     "output_type": "execute_result"
    }
   ],
   "source": []
  },
  {
   "cell_type": "code",
   "execution_count": null,
   "metadata": {
    "ExecuteTime": {
     "start_time": "2018-10-26T12:03:54.048Z"
    },
    "collapsed": false
   },
   "outputs": [
    {
     "name": "stderr",
     "output_type": "stream",
     "text": [
      "\n",
      "KeyboardInterrupt\n",
      "\n"
     ]
    }
   ],
   "source": [
    "# get_index_min(xx_0,w_tilda)\n",
    "\n",
    "import matplotlib.pyplot as plt\n",
    "%matplotlib inline\n",
    "plt.figure(figsize=(100,8))\n",
    "\n",
    "sns.set(style='whitegrid', color_codes=True)\n",
    "\n",
    "\n",
    "sns.heatmap(w_prev_hot)\n"
   ]
  },
  {
   "cell_type": "code",
   "execution_count": null,
   "metadata": {
    "ExecuteTime": {
     "start_time": "2018-10-26T12:05:44.651Z"
    },
    "collapsed": true
   },
   "outputs": [],
   "source": [
    "1"
   ]
  },
  {
   "cell_type": "code",
   "execution_count": 5,
   "metadata": {
    "ExecuteTime": {
     "end_time": "2018-10-25T11:19:50.084919Z",
     "start_time": "2018-10-25T11:19:50.079914Z"
    },
    "collapsed": false
   },
   "outputs": [],
   "source": []
  },
  {
   "cell_type": "code",
   "execution_count": 6,
   "metadata": {
    "ExecuteTime": {
     "end_time": "2018-10-25T11:19:54.703552Z",
     "start_time": "2018-10-25T11:19:54.697567Z"
    },
    "collapsed": false
   },
   "outputs": [
    {
     "data": {
      "text/plain": [
       "array([[1., 3.],\n",
       "       [2., 5.]])"
      ]
     },
     "execution_count": 6,
     "metadata": {},
     "output_type": "execute_result"
    }
   ],
   "source": []
  }
 ],
 "metadata": {
  "anaconda-cloud": {},
  "kernelspec": {
   "display_name": "Python [default]",
   "language": "python",
   "name": "python3"
  },
  "language_info": {
   "codemirror_mode": {
    "name": "ipython",
    "version": 3
   },
   "file_extension": ".py",
   "mimetype": "text/x-python",
   "name": "python",
   "nbconvert_exporter": "python",
   "pygments_lexer": "ipython3",
   "version": "3.5.2"
  },
  "toc": {
   "base_numbering": 1,
   "nav_menu": {},
   "number_sections": true,
   "sideBar": true,
   "skip_h1_title": true,
   "title_cell": "Table of Contents",
   "title_sidebar": "Contents",
   "toc_cell": true,
   "toc_position": {},
   "toc_section_display": true,
   "toc_window_display": false
  },
  "varInspector": {
   "cols": {
    "lenName": "30",
    "lenType": 16,
    "lenVar": 40
   },
   "kernels_config": {
    "python": {
     "delete_cmd_postfix": "",
     "delete_cmd_prefix": "del ",
     "library": "var_list.py",
     "varRefreshCmd": "print(var_dic_list())"
    },
    "r": {
     "delete_cmd_postfix": ") ",
     "delete_cmd_prefix": "rm(",
     "library": "var_list.r",
     "varRefreshCmd": "cat(var_dic_list()) "
    }
   },
   "oldHeight": 345.518518,
   "position": {
    "height": "40px",
    "left": "969.229px",
    "right": "20px",
    "top": "99.9746px",
    "width": "350px"
   },
   "types_to_exclude": [
    "module",
    "function",
    "builtin_function_or_method",
    "instance",
    "_Feature"
   ],
   "varInspector_section_display": "none",
   "window_display": true
  }
 },
 "nbformat": 4,
 "nbformat_minor": 1
}
